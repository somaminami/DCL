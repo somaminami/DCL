{
 "cells": [
  {
   "cell_type": "code",
   "execution_count": null,
   "metadata": {},
   "outputs": [],
   "source": [
    "import matplotlib.pyplot as plt\n",
    "%matplotlib inline\n",
    "import optuna\n",
    "import pandas as pd\n",
    "import numpy as np\n",
    "from graphviz import Digraph\n",
    "\n",
    "pd.set_option('display.max_columns', 200)\n",
    "pd.set_option('display.max_rows', 20)"
   ]
  },
  {
   "cell_type": "markdown",
   "metadata": {},
   "source": [
    "# Cteate study object"
   ]
  },
  {
   "cell_type": "code",
   "execution_count": null,
   "metadata": {},
   "outputs": [],
   "source": [
    "study = optuna.create_study(storage='sqlite:///result/optuna.db',\n",
    "                            study_name='experiment01',\n",
    "                            #pruner=pruner,\n",
    "                            direction=\"minimize\",\n",
    "                            load_if_exists=True)"
   ]
  },
  {
   "cell_type": "markdown",
   "metadata": {},
   "source": [
    "# Watch"
   ]
  },
  {
   "cell_type": "code",
   "execution_count": null,
   "metadata": {},
   "outputs": [],
   "source": [
    "optuna.visualization.plot_intermediate_values(study)"
   ]
  },
  {
   "cell_type": "markdown",
   "metadata": {},
   "source": [
    "# Graph"
   ]
  },
  {
   "cell_type": "code",
   "execution_count": null,
   "metadata": {},
   "outputs": [],
   "source": [
    "num_models = 3\n",
    "epochs = 200\n",
    "target_model = \"ResNet32\""
   ]
  },
  {
   "cell_type": "code",
   "execution_count": null,
   "metadata": {},
   "outputs": [],
   "source": [
    "df = study.trials_dataframe()\n",
    "df = df[[\"number\", \"state\", \"value\", \"datetime_start\",\"datetime_complete\",\"params\",\"user_attrs\"]]\n",
    "\n",
    "complete = df[df[\"state\"] == optuna.structs.TrialState.COMPLETE]\n",
    "params = complete[\"params\"]\n",
    "\n",
    "model = params.loc[:,params.columns.str.contains(\"model\")]\n",
    "\n",
    "model_acc = []\n",
    "for id_ in complete[\"number\"]:\n",
    "    model_acc += [[pd.read_csv(f\"./result/{id_:04d}/log/net{i}/epoch_log.csv\",\n",
    "                               index_col=\"Unnamed: 0\").at[epochs, \"test_accuracy\"] for i in range(num_models)]]\n",
    "    \n",
    "model_acc = pd.DataFrame(model_acc, index=model.index, columns=[f\"model_{i}_acc\" for i in range(num_models)])\n",
    "\n",
    "sorted_df = complete.sort_values(by=\"value\")\n",
    "sorted_acc = sorted_df[\"value\"]\n",
    "\n",
    "sorted_df = pd.concat([sorted_acc, model.loc[sorted_acc.index], model_acc.loc[sorted_acc.index]], axis=1).rename(columns={0:\"max_accuracy\"})\n",
    "sorted_df"
   ]
  },
  {
   "cell_type": "code",
   "execution_count": null,
   "metadata": {},
   "outputs": [],
   "source": [
    "top = 0"
   ]
  },
  {
   "cell_type": "code",
   "execution_count": null,
   "metadata": {},
   "outputs": [],
   "source": [
    "### Loss\n",
    "loss = params.loc[:, params.columns.str.contains(\"loss\")].loc[sorted_df.index[top]]\n",
    "model_name = params.loc[:, params.columns.str.contains(\"model\")].loc[sorted_df.index[top]]\n",
    "\n",
    "wh = int(np.sqrt(len(loss)))\n",
    "df_loss = pd.DataFrame(loss.values.reshape((wh,wh)), columns=model_name, index=model_name)\n",
    "df_loss\n",
    "\n",
    "### Gate\n",
    "gate = params.loc[:, params.columns.str.contains(\"gate\")].loc[sorted_df.index[top]]\n",
    "df_gate = pd.DataFrame(df_loss.copy()).applymap(lambda x :None)\n",
    "\n",
    "for gate_name, val in gate.to_dict().items():\n",
    "    source, target, _ = gate_name.split(\"_\")\n",
    "    df_gate.iloc[int(source), int(target)] = val\n",
    "\n",
    "edge_color = {\n",
    "    \"ThroughGate\": \"3\", \n",
    "    \"LinearGate\": \"1\", \n",
    "    \"CorrectGate\": \"2\"\n",
    "}\n",
    "\n",
    "G = Digraph(format=\"pdf\", engine=\"dot\")\n",
    "\n",
    "acc = model_acc.loc[sorted_acc.index].iloc[top]\n",
    "for target in range(len(df_loss)):    \n",
    "    G.node(f\"{target+1}. \"+df_loss.index[target]+f\" ({acc[target]}%)\",\n",
    "           color='gray90', fillcolor='gray90', style='filled')\n",
    "G.node(f\"{1}. \"+df_loss.index[0]+f\" ({acc[0]}%)\", color='pink', fillcolor='pink', style='radial')\n",
    "    \n",
    "for target in range(len(df_loss)):\n",
    "    for source in range(len(df_loss)):\n",
    "        gate = df_gate.iloc[target,source]\n",
    "        if gate != \"CutoffGate\":\n",
    "            label = df_gate.iloc[target, source].replace(\"Gate\",\"\")                \n",
    "            if source == target:\n",
    "                if gate == \"CorrectGate\":\n",
    "                    gate = \"ThroughGate\"\n",
    "                    label = \"Through\"\n",
    "                G.edge(f\"{target}\",\n",
    "                       f\"{target+1}. \"+df_loss.index[target]+f\" ({acc[target]}%)\",\n",
    "                       label=label, fontsize=\"13\", fontcolor=edge_color[gate],\n",
    "                       color=edge_color[gate], colorscheme=\"dark28\")\n",
    "                G.node(f\"{target}\", label=\"Label\", color='white', style='filled')\n",
    "            else:\n",
    "                G.edge(f\"{source+1}. \"+df_loss.columns[source]+f\" ({acc[source]}%)\",\n",
    "                       f\"{target+1}. \"+df_loss.index[target]+f\" ({acc[target]}%)\",\n",
    "                       label=label, fontsize=\"13\", fontcolor=edge_color[gate],\n",
    "                       color=edge_color[gate], colorscheme=\"dark28\")\n",
    "\n",
    "                \n",
    "for target in range(len(df_loss)):\n",
    "    if (df_gate.iloc[target] == \"CutoffGate\").all():\n",
    "        G.node(f\"{target+1}. \"+df_loss.columns[target]+f\" ({acc[target]}%)\",\n",
    "               color='lightblue',fillcolor='lightblue', style='radial')\n",
    "\n",
    "G.render(filename=f\"{top}\", directory=\"./topn_graph\", cleanup=True, format=\"pdf\")\n",
    "G"
   ]
  },
  {
   "cell_type": "code",
   "execution_count": null,
   "metadata": {},
   "outputs": [],
   "source": []
  },
  {
   "cell_type": "code",
   "execution_count": null,
   "metadata": {},
   "outputs": [],
   "source": []
  },
  {
   "cell_type": "code",
   "execution_count": null,
   "metadata": {},
   "outputs": [],
   "source": []
  }
 ],
 "metadata": {
  "kernelspec": {
   "display_name": "Python 3",
   "language": "python",
   "name": "python3"
  },
  "language_info": {
   "codemirror_mode": {
    "name": "ipython",
    "version": 3
   },
   "file_extension": ".py",
   "mimetype": "text/x-python",
   "name": "python",
   "nbconvert_exporter": "python",
   "pygments_lexer": "ipython3",
   "version": "3.6.8"
  }
 },
 "nbformat": 4,
 "nbformat_minor": 2
}
